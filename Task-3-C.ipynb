{
 "cells": [
  {
   "cell_type": "code",
   "execution_count": 24,
   "metadata": {},
   "outputs": [],
   "source": [
    "import pandas as pd\n",
    "from  nltk.corpus import stopwords\n",
    "import matplotlib.pyplot as plt\n",
    "from sklearn.naive_bayes import MultinomialNB\n",
    "from sklearn.feature_extraction.text import CountVectorizer\n",
    "from sklearn.model_selection import train_test_split\n",
    "from sklearn.feature_extraction.text import TfidfVectorizer\n",
    "from sklearn.metrics import accuracy_score"
   ]
  },
  {
   "cell_type": "code",
   "execution_count": 10,
   "metadata": {},
   "outputs": [
    {
     "name": "stderr",
     "output_type": "stream",
     "text": [
      "b'Skipping line 30: expected 2 fields, saw 3\\nSkipping line 46: expected 2 fields, saw 4\\nSkipping line 53: expected 2 fields, saw 6\\nSkipping line 57: expected 2 fields, saw 4\\nSkipping line 80: expected 2 fields, saw 4\\nSkipping line 180: expected 2 fields, saw 6\\nSkipping line 202: expected 2 fields, saw 4\\nSkipping line 203: expected 2 fields, saw 4\\nSkipping line 205: expected 2 fields, saw 8\\nSkipping line 211: expected 2 fields, saw 4\\nSkipping line 231: expected 2 fields, saw 4\\nSkipping line 233: expected 2 fields, saw 4\\nSkipping line 238: expected 2 fields, saw 4\\nSkipping line 241: expected 2 fields, saw 3\\nSkipping line 357: expected 2 fields, saw 4\\nSkipping line 375: expected 2 fields, saw 4\\nSkipping line 407: expected 2 fields, saw 4\\nSkipping line 417: expected 2 fields, saw 3\\nSkipping line 427: expected 2 fields, saw 6\\nSkipping line 432: expected 2 fields, saw 6\\nSkipping line 437: expected 2 fields, saw 5\\nSkipping line 438: expected 2 fields, saw 8\\nSkipping line 444: expected 2 fields, saw 3\\nSkipping line 468: expected 2 fields, saw 4\\nSkipping line 475: expected 2 fields, saw 6\\nSkipping line 496: expected 2 fields, saw 4\\nSkipping line 539: expected 2 fields, saw 3\\nSkipping line 551: expected 2 fields, saw 4\\nSkipping line 582: expected 2 fields, saw 3\\nSkipping line 623: expected 2 fields, saw 4\\nSkipping line 648: expected 2 fields, saw 4\\nSkipping line 667: expected 2 fields, saw 3\\nSkipping line 670: expected 2 fields, saw 4\\nSkipping line 677: expected 2 fields, saw 4\\nSkipping line 713: expected 2 fields, saw 3\\nSkipping line 776: expected 2 fields, saw 4\\nSkipping line 802: expected 2 fields, saw 4\\nSkipping line 804: expected 2 fields, saw 4\\nSkipping line 813: expected 2 fields, saw 4\\nSkipping line 831: expected 2 fields, saw 4\\nSkipping line 838: expected 2 fields, saw 3\\nSkipping line 840: expected 2 fields, saw 4\\nSkipping line 848: expected 2 fields, saw 4\\nSkipping line 860: expected 2 fields, saw 4\\nSkipping line 877: expected 2 fields, saw 4\\nSkipping line 897: expected 2 fields, saw 4\\nSkipping line 928: expected 2 fields, saw 4\\nSkipping line 965: expected 2 fields, saw 4\\nSkipping line 968: expected 2 fields, saw 4\\nSkipping line 981: expected 2 fields, saw 4\\nSkipping line 988: expected 2 fields, saw 4\\nSkipping line 989: expected 2 fields, saw 4\\nSkipping line 996: expected 2 fields, saw 3\\nSkipping line 1006: expected 2 fields, saw 4\\nSkipping line 1011: expected 2 fields, saw 4\\nSkipping line 1012: expected 2 fields, saw 4\\nSkipping line 1088: expected 2 fields, saw 3\\nSkipping line 1092: expected 2 fields, saw 4\\nSkipping line 1130: expected 2 fields, saw 3\\nSkipping line 1166: expected 2 fields, saw 3\\nSkipping line 1185: expected 2 fields, saw 4\\nSkipping line 1189: expected 2 fields, saw 4\\nSkipping line 1202: expected 2 fields, saw 12\\nSkipping line 1233: expected 2 fields, saw 4\\nSkipping line 1318: expected 2 fields, saw 3\\nSkipping line 1327: expected 2 fields, saw 3\\nSkipping line 1338: expected 2 fields, saw 3\\nSkipping line 1362: expected 2 fields, saw 8\\nSkipping line 1375: expected 2 fields, saw 4\\nSkipping line 1402: expected 2 fields, saw 4\\nSkipping line 1405: expected 2 fields, saw 4\\nSkipping line 1414: expected 2 fields, saw 3\\nSkipping line 1428: expected 2 fields, saw 4\\nSkipping line 1443: expected 2 fields, saw 3\\nSkipping line 1469: expected 2 fields, saw 8\\nSkipping line 1500: expected 2 fields, saw 4\\nSkipping line 1506: expected 2 fields, saw 4\\nSkipping line 1544: expected 2 fields, saw 3\\nSkipping line 1568: expected 2 fields, saw 8\\nSkipping line 1581: expected 2 fields, saw 38\\nSkipping line 1585: expected 2 fields, saw 3\\nSkipping line 1586: expected 2 fields, saw 4\\nSkipping line 1588: expected 2 fields, saw 4\\nSkipping line 1593: expected 2 fields, saw 3\\nSkipping line 1621: expected 2 fields, saw 4\\nSkipping line 1651: expected 2 fields, saw 3\\nSkipping line 1707: expected 2 fields, saw 3\\nSkipping line 1727: expected 2 fields, saw 4\\nSkipping line 1728: expected 2 fields, saw 4\\nSkipping line 1751: expected 2 fields, saw 4\\nSkipping line 1784: expected 2 fields, saw 3\\nSkipping line 1789: expected 2 fields, saw 3\\nSkipping line 1803: expected 2 fields, saw 4\\nSkipping line 1807: expected 2 fields, saw 4\\nSkipping line 1829: expected 2 fields, saw 4\\nSkipping line 1859: expected 2 fields, saw 4\\nSkipping line 1913: expected 2 fields, saw 4\\nSkipping line 1928: expected 2 fields, saw 4\\nSkipping line 1947: expected 2 fields, saw 3\\nSkipping line 1967: expected 2 fields, saw 3\\nSkipping line 1984: expected 2 fields, saw 4\\nSkipping line 1986: expected 2 fields, saw 6\\nSkipping line 2007: expected 2 fields, saw 4\\nSkipping line 2014: expected 2 fields, saw 4\\nSkipping line 2067: expected 2 fields, saw 11\\nSkipping line 2074: expected 2 fields, saw 3\\nSkipping line 2112: expected 2 fields, saw 4\\nSkipping line 2118: expected 2 fields, saw 3\\nSkipping line 2124: expected 2 fields, saw 3\\nSkipping line 2165: expected 2 fields, saw 4\\nSkipping line 2182: expected 2 fields, saw 4\\nSkipping line 2242: expected 2 fields, saw 4\\nSkipping line 2254: expected 2 fields, saw 3\\nSkipping line 2265: expected 2 fields, saw 4\\nSkipping line 2304: expected 2 fields, saw 4\\nSkipping line 2306: expected 2 fields, saw 4\\nSkipping line 2329: expected 2 fields, saw 3\\nSkipping line 2340: expected 2 fields, saw 4\\nSkipping line 2346: expected 2 fields, saw 4\\nSkipping line 2349: expected 2 fields, saw 4\\nSkipping line 2357: expected 2 fields, saw 4\\nSkipping line 2372: expected 2 fields, saw 3\\nSkipping line 2381: expected 2 fields, saw 4\\nSkipping line 2382: expected 2 fields, saw 4\\nSkipping line 2393: expected 2 fields, saw 4\\nSkipping line 2397: expected 2 fields, saw 3\\nSkipping line 2410: expected 2 fields, saw 6\\nSkipping line 2430: expected 2 fields, saw 4\\nSkipping line 2436: expected 2 fields, saw 15\\nSkipping line 2446: expected 2 fields, saw 4\\nSkipping line 2451: expected 2 fields, saw 4\\nSkipping line 2477: expected 2 fields, saw 4\\nSkipping line 2499: expected 2 fields, saw 6\\nSkipping line 2501: expected 2 fields, saw 4\\nSkipping line 2517: expected 2 fields, saw 4\\nSkipping line 2528: expected 2 fields, saw 4\\nSkipping line 2531: expected 2 fields, saw 4\\nSkipping line 2547: expected 2 fields, saw 6\\nSkipping line 2595: expected 2 fields, saw 4\\nSkipping line 2603: expected 2 fields, saw 3\\nSkipping line 2613: expected 2 fields, saw 3\\nSkipping line 2618: expected 2 fields, saw 4\\nSkipping line 2627: expected 2 fields, saw 4\\nSkipping line 2651: expected 2 fields, saw 4\\nSkipping line 2660: expected 2 fields, saw 4\\nSkipping line 2674: expected 2 fields, saw 4\\nSkipping line 2683: expected 2 fields, saw 6\\nSkipping line 2689: expected 2 fields, saw 4\\nSkipping line 2692: expected 2 fields, saw 4\\nSkipping line 2696: expected 2 fields, saw 4\\nSkipping line 2703: expected 2 fields, saw 4\\nSkipping line 2718: expected 2 fields, saw 4\\nSkipping line 2719: expected 2 fields, saw 4\\nSkipping line 2741: expected 2 fields, saw 4\\nSkipping line 2766: expected 2 fields, saw 4\\nSkipping line 2786: expected 2 fields, saw 3\\nSkipping line 2797: expected 2 fields, saw 8\\nSkipping line 2798: expected 2 fields, saw 4\\nSkipping line 2799: expected 2 fields, saw 4\\nSkipping line 2803: expected 2 fields, saw 4\\nSkipping line 2815: expected 2 fields, saw 4\\nSkipping line 2847: expected 2 fields, saw 4\\nSkipping line 2862: expected 2 fields, saw 3\\nSkipping line 2871: expected 2 fields, saw 4\\nSkipping line 2872: expected 2 fields, saw 4\\nSkipping line 2903: expected 2 fields, saw 4\\nSkipping line 2916: expected 2 fields, saw 4\\nSkipping line 2934: expected 2 fields, saw 4\\nSkipping line 2935: expected 2 fields, saw 8\\nSkipping line 2936: expected 2 fields, saw 4\\nSkipping line 2948: expected 2 fields, saw 4\\nSkipping line 2952: expected 2 fields, saw 3\\nSkipping line 2970: expected 2 fields, saw 12\\nSkipping line 2974: expected 2 fields, saw 3\\nSkipping line 3018: expected 2 fields, saw 4\\nSkipping line 3019: expected 2 fields, saw 7\\nSkipping line 3037: expected 2 fields, saw 4\\nSkipping line 3039: expected 2 fields, saw 3\\nSkipping line 3054: expected 2 fields, saw 3\\nSkipping line 3060: expected 2 fields, saw 4\\nSkipping line 3062: expected 2 fields, saw 6\\nSkipping line 3099: expected 2 fields, saw 4\\nSkipping line 3109: expected 2 fields, saw 4\\nSkipping line 3112: expected 2 fields, saw 4\\nSkipping line 3146: expected 2 fields, saw 4\\nSkipping line 3192: expected 2 fields, saw 4\\nSkipping line 3220: expected 2 fields, saw 4\\nSkipping line 3236: expected 2 fields, saw 3\\nSkipping line 3245: expected 2 fields, saw 3\\nSkipping line 3247: expected 2 fields, saw 3\\nSkipping line 3267: expected 2 fields, saw 4\\nSkipping line 3282: expected 2 fields, saw 6\\nSkipping line 3288: expected 2 fields, saw 4\\nSkipping line 3302: expected 2 fields, saw 3\\nSkipping line 3308: expected 2 fields, saw 6\\nSkipping line 3360: expected 2 fields, saw 3\\nSkipping line 3361: expected 2 fields, saw 3\\nSkipping line 3406: expected 2 fields, saw 3\\nSkipping line 3413: expected 2 fields, saw 4\\nSkipping line 3434: expected 2 fields, saw 4\\nSkipping line 3436: expected 2 fields, saw 3\\nSkipping line 3451: expected 2 fields, saw 4\\nSkipping line 3474: expected 2 fields, saw 4\\nSkipping line 3479: expected 2 fields, saw 4\\nSkipping line 3480: expected 2 fields, saw 4\\nSkipping line 3487: expected 2 fields, saw 4\\nSkipping line 3495: expected 2 fields, saw 5\\nSkipping line 3504: expected 2 fields, saw 6\\nSkipping line 3535: expected 2 fields, saw 4\\nSkipping line 3552: expected 2 fields, saw 4\\nSkipping line 3568: expected 2 fields, saw 4\\nSkipping line 3588: expected 2 fields, saw 4\\nSkipping line 3590: expected 2 fields, saw 3\\nSkipping line 3612: expected 2 fields, saw 4\\nSkipping line 3619: expected 2 fields, saw 4\\nSkipping line 3623: expected 2 fields, saw 4\\nSkipping line 3637: expected 2 fields, saw 8\\nSkipping line 3662: expected 2 fields, saw 4\\nSkipping line 3663: expected 2 fields, saw 4\\nSkipping line 3688: expected 2 fields, saw 4\\nSkipping line 3689: expected 2 fields, saw 4\\nSkipping line 3698: expected 2 fields, saw 4\\nSkipping line 3734: expected 2 fields, saw 3\\nSkipping line 3740: expected 2 fields, saw 7\\nSkipping line 3763: expected 2 fields, saw 4\\nSkipping line 3766: expected 2 fields, saw 4\\nSkipping line 3781: expected 2 fields, saw 4\\nSkipping line 3784: expected 2 fields, saw 4\\nSkipping line 3800: expected 2 fields, saw 10\\nSkipping line 3801: expected 2 fields, saw 4\\nSkipping line 3802: expected 2 fields, saw 4\\nSkipping line 3807: expected 2 fields, saw 8\\nSkipping line 3823: expected 2 fields, saw 4\\nSkipping line 3834: expected 2 fields, saw 6\\nSkipping line 3845: expected 2 fields, saw 4\\nSkipping line 3849: expected 2 fields, saw 4\\nSkipping line 3855: expected 2 fields, saw 4\\nSkipping line 3867: expected 2 fields, saw 3\\nSkipping line 3882: expected 2 fields, saw 4\\nSkipping line 3886: expected 2 fields, saw 4\\nSkipping line 3922: expected 2 fields, saw 4\\nSkipping line 3971: expected 2 fields, saw 4\\nSkipping line 3999: expected 2 fields, saw 4\\nSkipping line 4006: expected 2 fields, saw 3\\nSkipping line 4017: expected 2 fields, saw 3\\nSkipping line 4028: expected 2 fields, saw 4\\nSkipping line 4046: expected 2 fields, saw 4\\nSkipping line 4059: expected 2 fields, saw 3\\nSkipping line 4069: expected 2 fields, saw 4\\nSkipping line 4082: expected 2 fields, saw 4\\nSkipping line 4083: expected 2 fields, saw 4\\nSkipping line 4094: expected 2 fields, saw 4\\nSkipping line 4140: expected 2 fields, saw 4\\nSkipping line 4144: expected 2 fields, saw 3\\nSkipping line 4174: expected 2 fields, saw 4\\nSkipping line 4192: expected 2 fields, saw 4\\nSkipping line 4195: expected 2 fields, saw 4\\nSkipping line 4224: expected 2 fields, saw 7\\nSkipping line 4268: expected 2 fields, saw 4\\nSkipping line 4290: expected 2 fields, saw 3\\nSkipping line 4324: expected 2 fields, saw 4\\nSkipping line 4339: expected 2 fields, saw 4\\nSkipping line 4343: expected 2 fields, saw 4\\nSkipping line 4351: expected 2 fields, saw 4\\nSkipping line 4392: expected 2 fields, saw 4\\nSkipping line 4393: expected 2 fields, saw 3\\nSkipping line 4407: expected 2 fields, saw 4\\nSkipping line 4410: expected 2 fields, saw 4\\nSkipping line 4419: expected 2 fields, saw 3\\nSkipping line 4435: expected 2 fields, saw 4\\nSkipping line 4439: expected 2 fields, saw 4\\nSkipping line 4456: expected 2 fields, saw 4\\nSkipping line 4491: expected 2 fields, saw 3\\nSkipping line 4493: expected 2 fields, saw 4\\nSkipping line 4517: expected 2 fields, saw 3\\nSkipping line 4566: expected 2 fields, saw 4\\nSkipping line 4568: expected 2 fields, saw 3\\nSkipping line 4569: expected 2 fields, saw 6\\nSkipping line 4583: expected 2 fields, saw 5\\nSkipping line 4611: expected 2 fields, saw 4\\nSkipping line 4688: expected 2 fields, saw 4\\nSkipping line 4713: expected 2 fields, saw 3\\nSkipping line 4720: expected 2 fields, saw 3\\nSkipping line 4731: expected 2 fields, saw 4\\nSkipping line 4736: expected 2 fields, saw 3\\nSkipping line 4775: expected 2 fields, saw 4\\nSkipping line 4816: expected 2 fields, saw 4\\nSkipping line 4833: expected 2 fields, saw 3\\nSkipping line 4852: expected 2 fields, saw 4\\nSkipping line 4871: expected 2 fields, saw 4\\nSkipping line 4872: expected 2 fields, saw 4\\nSkipping line 4886: expected 2 fields, saw 3\\nSkipping line 4922: expected 2 fields, saw 3\\nSkipping line 4935: expected 2 fields, saw 4\\nSkipping line 4942: expected 2 fields, saw 4\\nSkipping line 4963: expected 2 fields, saw 4\\nSkipping line 4985: expected 2 fields, saw 4\\nSkipping line 5007: expected 2 fields, saw 6\\nSkipping line 5051: expected 2 fields, saw 3\\nSkipping line 5068: expected 2 fields, saw 6\\nSkipping line 5072: expected 2 fields, saw 3\\nSkipping line 5077: expected 2 fields, saw 4\\nSkipping line 5098: expected 2 fields, saw 4\\nSkipping line 5106: expected 2 fields, saw 3\\nSkipping line 5107: expected 2 fields, saw 6\\nSkipping line 5116: expected 2 fields, saw 4\\nSkipping line 5123: expected 2 fields, saw 4\\nSkipping line 5134: expected 2 fields, saw 4\\nSkipping line 5156: expected 2 fields, saw 4\\nSkipping line 5208: expected 2 fields, saw 4\\nSkipping line 5259: expected 2 fields, saw 3\\nSkipping line 5262: expected 2 fields, saw 4\\nSkipping line 5279: expected 2 fields, saw 3\\nSkipping line 5282: expected 2 fields, saw 4\\nSkipping line 5304: expected 2 fields, saw 4\\nSkipping line 5306: expected 2 fields, saw 4\\nSkipping line 5337: expected 2 fields, saw 4\\nSkipping line 5339: expected 2 fields, saw 4\\nSkipping line 5357: expected 2 fields, saw 3\\nSkipping line 5361: expected 2 fields, saw 4\\nSkipping line 5371: expected 2 fields, saw 4\\nSkipping line 5376: expected 2 fields, saw 3\\nSkipping line 5384: expected 2 fields, saw 4\\nSkipping line 5389: expected 2 fields, saw 4\\nSkipping line 5402: expected 2 fields, saw 3\\nSkipping line 5406: expected 2 fields, saw 4\\nSkipping line 5421: expected 2 fields, saw 3\\nSkipping line 5461: expected 2 fields, saw 4\\nSkipping line 5474: expected 2 fields, saw 4\\nSkipping line 5480: expected 2 fields, saw 4\\nSkipping line 5487: expected 2 fields, saw 3\\nSkipping line 5500: expected 2 fields, saw 3\\nSkipping line 5502: expected 2 fields, saw 4\\nSkipping line 5506: expected 2 fields, saw 4\\nSkipping line 5515: expected 2 fields, saw 6\\nSkipping line 5546: expected 2 fields, saw 3\\nSkipping line 5550: expected 2 fields, saw 3\\nSkipping line 5559: expected 2 fields, saw 6\\nSkipping line 5561: expected 2 fields, saw 4\\n'\n"
     ]
    }
   ],
   "source": [
    "df = pd.read_csv('Smscollection.csv',encoding='utf8',sep=';',error_bad_lines=False)"
   ]
  },
  {
   "cell_type": "code",
   "execution_count": 11,
   "metadata": {},
   "outputs": [
    {
     "data": {
      "text/html": [
       "<div>\n",
       "<style scoped>\n",
       "    .dataframe tbody tr th:only-of-type {\n",
       "        vertical-align: middle;\n",
       "    }\n",
       "\n",
       "    .dataframe tbody tr th {\n",
       "        vertical-align: top;\n",
       "    }\n",
       "\n",
       "    .dataframe thead th {\n",
       "        text-align: right;\n",
       "    }\n",
       "</style>\n",
       "<table border=\"1\" class=\"dataframe\">\n",
       "  <thead>\n",
       "    <tr style=\"text-align: right;\">\n",
       "      <th></th>\n",
       "      <th>label</th>\n",
       "      <th>text</th>\n",
       "    </tr>\n",
       "  </thead>\n",
       "  <tbody>\n",
       "    <tr>\n",
       "      <th>0</th>\n",
       "      <td>ham</td>\n",
       "      <td>Go until jurong point, crazy.. Available only ...</td>\n",
       "    </tr>\n",
       "    <tr>\n",
       "      <th>1</th>\n",
       "      <td>ham</td>\n",
       "      <td>Ok lar... Joking wif u oni...</td>\n",
       "    </tr>\n",
       "    <tr>\n",
       "      <th>2</th>\n",
       "      <td>spam</td>\n",
       "      <td>Free entry in 2 a wkly comp to win FA Cup fina...</td>\n",
       "    </tr>\n",
       "    <tr>\n",
       "      <th>3</th>\n",
       "      <td>ham</td>\n",
       "      <td>U dun say so early hor... U c already then say...</td>\n",
       "    </tr>\n",
       "    <tr>\n",
       "      <th>4</th>\n",
       "      <td>ham</td>\n",
       "      <td>Nah I don't think he goes to usf, he lives aro...</td>\n",
       "    </tr>\n",
       "    <tr>\n",
       "      <th>...</th>\n",
       "      <td>...</td>\n",
       "      <td>...</td>\n",
       "    </tr>\n",
       "    <tr>\n",
       "      <th>5228</th>\n",
       "      <td>spam</td>\n",
       "      <td>This is the 2nd time we have tried 2 contact u...</td>\n",
       "    </tr>\n",
       "    <tr>\n",
       "      <th>5229</th>\n",
       "      <td>ham</td>\n",
       "      <td>Will ü b going to esplanade fr home?</td>\n",
       "    </tr>\n",
       "    <tr>\n",
       "      <th>5230</th>\n",
       "      <td>ham</td>\n",
       "      <td>Pity, * was in mood for that. So...any other s...</td>\n",
       "    </tr>\n",
       "    <tr>\n",
       "      <th>5231</th>\n",
       "      <td>ham</td>\n",
       "      <td>The guy did some bitching but I acted like i'd...</td>\n",
       "    </tr>\n",
       "    <tr>\n",
       "      <th>5232</th>\n",
       "      <td>ham</td>\n",
       "      <td>Rofl. Its true to its name</td>\n",
       "    </tr>\n",
       "  </tbody>\n",
       "</table>\n",
       "<p>5233 rows × 2 columns</p>\n",
       "</div>"
      ],
      "text/plain": [
       "     label                                               text\n",
       "0      ham  Go until jurong point, crazy.. Available only ...\n",
       "1      ham                      Ok lar... Joking wif u oni...\n",
       "2     spam  Free entry in 2 a wkly comp to win FA Cup fina...\n",
       "3      ham  U dun say so early hor... U c already then say...\n",
       "4      ham  Nah I don't think he goes to usf, he lives aro...\n",
       "...    ...                                                ...\n",
       "5228  spam  This is the 2nd time we have tried 2 contact u...\n",
       "5229   ham               Will ü b going to esplanade fr home?\n",
       "5230   ham  Pity, * was in mood for that. So...any other s...\n",
       "5231   ham  The guy did some bitching but I acted like i'd...\n",
       "5232   ham                         Rofl. Its true to its name\n",
       "\n",
       "[5233 rows x 2 columns]"
      ]
     },
     "execution_count": 11,
     "metadata": {},
     "output_type": "execute_result"
    }
   ],
   "source": [
    "df_2 = df\n",
    "df_2"
   ]
  },
  {
   "cell_type": "code",
   "execution_count": 38,
   "metadata": {},
   "outputs": [
    {
     "data": {
      "text/plain": [
       "<matplotlib.axes._subplots.AxesSubplot at 0x1a99a4d6048>"
      ]
     },
     "execution_count": 38,
     "metadata": {},
     "output_type": "execute_result"
    },
    {
     "data": {
      "image/png": "[encoded data removed]",
      "text/plain": [
       "<Figure size 600x400 with 1 Axes>"
      ]
     },
     "metadata": {},
     "output_type": "display_data"
    }
   ],
   "source": [
    "plt.style.use('seaborn')\n",
    "plt.figure(figsize=(6, 4), dpi=100)\n",
    "df_2['label'].value_counts().plot(kind='bar')"
   ]
  },
  {
   "cell_type": "code",
   "execution_count": 19,
   "metadata": {},
   "outputs": [],
   "source": [
    "# upper words to lower words\n",
    "df_2['text'] = df_2['text'].str.lower()\n",
    "df_2['text_new'] = df_2['text']"
   ]
  },
  {
   "cell_type": "code",
   "execution_count": 20,
   "metadata": {},
   "outputs": [],
   "source": [
    "# remove the stop words\n",
    "words = stopwords.words('english')\n",
    "for w in ['!',',','.','?','-']:\n",
    "    words.append(w)"
   ]
  },
  {
   "cell_type": "code",
   "execution_count": 28,
   "metadata": {},
   "outputs": [],
   "source": [
    "# get tf-idf vector\n",
    "vectorizer=TfidfVectorizer(binary=True)\n",
    "x1 = vectorizer.fit_transform(df_2['text_new'])\n",
    "y = df_2['label']"
   ]
  },
  {
   "cell_type": "code",
   "execution_count": 33,
   "metadata": {},
   "outputs": [],
   "source": [
    "# get word frequency vector\n",
    "vectorizer_2 = CountVectorizer(binary=True)\n",
    "x2 = vectorizer_2.fit_transform(df_2['text_new'])\n",
    "y = df_2['label']"
   ]
  },
  {
   "cell_type": "code",
   "execution_count": 34,
   "metadata": {},
   "outputs": [],
   "source": [
    "# get train dataset and test dataset\n",
    "X1_train, X1_test, y_train, y_test = train_test_split(x1, y, random_state=100)\n",
    "X2_train, X2_test, y_train, y_test = train_test_split(x2, y, random_state=100)"
   ]
  },
  {
   "cell_type": "code",
   "execution_count": 35,
   "metadata": {},
   "outputs": [
    {
     "name": "stdout",
     "output_type": "stream",
     "text": [
      "accuracy on test data:  0.961038961038961\n"
     ]
    }
   ],
   "source": [
    "# use Bayes model\n",
    "clf = MultinomialNB(alpha=1, fit_prior=True)\n",
    "clf.fit(X1_train, y_train)\n",
    "y_pred = clf.predict(X_test)\n",
    "print(\"accuracy on test data: \", accuracy_score(y_test, y_pred))"
   ]
  },
  {
   "cell_type": "code",
   "execution_count": 36,
   "metadata": {},
   "outputs": [
    {
     "name": "stdout",
     "output_type": "stream",
     "text": [
      "accuracy on test data:  0.988540870893812\n"
     ]
    }
   ],
   "source": [
    "clf = MultinomialNB(alpha=1, fit_prior=True)\n",
    "clf.fit(X2_train, y_train)\n",
    "y_pred = clf.predict(X_test)\n",
    "print(\"accuracy on test data: \", accuracy_score(y_test, y_pred))"
   ]
  }
 ],
 "metadata": {
  "kernelspec": {
   "display_name": "Python 3",
   "language": "python",
   "name": "python3"
  },
  "language_info": {
   "codemirror_mode": {
    "name": "ipython",
    "version": 3
   },
   "file_extension": ".py",
   "mimetype": "text/x-python",
   "name": "python",
   "nbconvert_exporter": "python",
   "pygments_lexer": "ipython3",
   "version": "3.7.7"
  }
 },
 "nbformat": 4,
 "nbformat_minor": 4
}
